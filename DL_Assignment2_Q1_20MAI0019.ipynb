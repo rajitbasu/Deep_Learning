{
  "nbformat": 4,
  "nbformat_minor": 0,
  "metadata": {
    "colab": {
      "name": "DL_Assignment2_Q1_20MAI0019.ipynb",
      "provenance": [],
      "authorship_tag": "ABX9TyMsudhLUL++dm8yBjLOAIHE",
      "include_colab_link": true
    },
    "kernelspec": {
      "name": "python3",
      "display_name": "Python 3"
    }
  },
  "cells": [
    {
      "cell_type": "markdown",
      "metadata": {
        "id": "view-in-github",
        "colab_type": "text"
      },
      "source": [
        "<a href=\"https://colab.research.google.com/github/rajitbasu/Deep_Learning/blob/main/DL_Assignment2_Q1_20MAI0019.ipynb\" target=\"_parent\"><img src=\"https://colab.research.google.com/assets/colab-badge.svg\" alt=\"Open In Colab\"/></a>"
      ]
    },
    {
      "cell_type": "code",
      "metadata": {
        "id": "Sdqe2e1WL6WY"
      },
      "source": [
        "# RAJIT BASU_20MAI0019\r\n",
        "# Github link"
      ],
      "execution_count": 16,
      "outputs": []
    },
    {
      "cell_type": "markdown",
      "metadata": {
        "id": "mFN6vU0gPKMd"
      },
      "source": [
        "https://github.com/rajitbasu/Deep_Learning/blob/main/DL_Assignment2_Q1_20MAI0019.ipynb"
      ]
    },
    {
      "cell_type": "markdown",
      "metadata": {
        "id": "mKv-12MuPGzv"
      },
      "source": [
        "**Sigmoid Activation Function**"
      ]
    },
    {
      "cell_type": "code",
      "metadata": {
        "colab": {
          "base_uri": "https://localhost:8080/",
          "height": 294
        },
        "id": "eGW51cihO83D",
        "outputId": "61ec38fe-ec53-4f84-d3e7-319378c4ae12"
      },
      "source": [
        "# Import matplotlib, numpy and math \r\n",
        "import matplotlib.pyplot as plt \r\n",
        "import numpy as np \r\n",
        "import math \r\n",
        "  \r\n",
        "x = np.linspace(-10, 10, 100) \r\n",
        "z = 1/(1 + np.exp(-x)) \r\n",
        "  \r\n",
        "plt.plot(x, z) \r\n",
        "plt.xlabel(\"x\") \r\n",
        "plt.ylabel(\"Sigmoid(X)\")\r\n",
        "plt.title('Activation Function :Sigmoid') \r\n",
        "  \r\n",
        "plt.show() "
      ],
      "execution_count": 17,
      "outputs": [
        {
          "output_type": "display_data",
          "data": {
            "image/png": "[encoded data removed]",
            "text/plain": [
              "<Figure size 432x288 with 1 Axes>"
            ]
          },
          "metadata": {
            "tags": [],
            "needs_background": "light"
          }
        }
      ]
    },
    {
      "cell_type": "code",
      "metadata": {
        "colab": {
          "base_uri": "https://localhost:8080/"
        },
        "id": "q4e9ib2-mRnN",
        "outputId": "60d49c28-cf2f-442b-b175-a90b6f1bde5d"
      },
      "source": [
        "import numpy as np\r\n",
        "def sigmoid(z):\r\n",
        " return 1 / (1 + np.exp(-z))\r\n",
        "print(\"Sigmoid of 5 is:\",sigmoid (5))"
      ],
      "execution_count": 29,
      "outputs": [
        {
          "output_type": "stream",
          "text": [
            "Sigmoid of 5 is: 0.9933071490757153\n"
          ],
          "name": "stdout"
        }
      ]
    },
    {
      "cell_type": "markdown",
      "metadata": {
        "id": "ZxCq34SXPUvl"
      },
      "source": [
        "**Tanh Activation Function**"
      ]
    },
    {
      "cell_type": "code",
      "metadata": {
        "id": "s7HFj9PUN_8R"
      },
      "source": [
        "def tanh(x):\r\n",
        "    ''' It returns the value (1-exp(-2x))/(1+exp(-2x)) and the value returned will be lies in between -1 to 1.'''\r\n",
        "\r\n",
        "    return np.tanh(x)"
      ],
      "execution_count": 30,
      "outputs": []
    },
    {
      "cell_type": "code",
      "metadata": {
        "colab": {
          "base_uri": "https://localhost:8080/",
          "height": 281
        },
        "id": "GOv0rq9pWPhT",
        "outputId": "98a4152d-06c9-44cf-a975-fd8841e2f48f"
      },
      "source": [
        "x = np.linspace(-10, 10)\r\n",
        "plt.plot(x, tanh(x))\r\n",
        "plt.axis('tight')\r\n",
        "plt.title('Activation Function :Tanh')\r\n",
        "plt.show()"
      ],
      "execution_count": 31,
      "outputs": [
        {
          "output_type": "display_data",
          "data": {
            "image/png": "[encoded data removed]",
            "text/plain": [
              "<Figure size 432x288 with 1 Axes>"
            ]
          },
          "metadata": {
            "tags": [],
            "needs_background": "light"
          }
        }
      ]
    },
    {
      "cell_type": "markdown",
      "metadata": {
        "id": "gZmMQI9aWtxb"
      },
      "source": [
        "**RELU Activation Function**"
      ]
    },
    {
      "cell_type": "code",
      "metadata": {
        "colab": {
          "base_uri": "https://localhost:8080/"
        },
        "id": "hOHxVNMqWTWs",
        "outputId": "9e35b7d8-4ba7-40a8-fdd1-5c170f6025ff"
      },
      "source": [
        "def relu(x):\r\n",
        "    return max(0.0, x)\r\n",
        " \r\n",
        "x = 1.0\r\n",
        "print('Applying Relu on (%.1f) gives %.1f' % (x, relu(x)))\r\n",
        "x = -10.0\r\n",
        "print('Applying Relu on (%.1f) gives %.1f' % (x, relu(x)))\r\n",
        "x = 0.0\r\n",
        "print('Applying Relu on (%.1f) gives %.1f' % (x, relu(x)))\r\n",
        "x = 15.0\r\n",
        "print('Applying Relu on (%.1f) gives %.1f' % (x, relu(x)))\r\n",
        "x = -20.0\r\n",
        "print('Applying Relu on (%.1f) gives %.1f' % (x, relu(x)))"
      ],
      "execution_count": 32,
      "outputs": [
        {
          "output_type": "stream",
          "text": [
            "Applying Relu on (1.0) gives 1.0\n",
            "Applying Relu on (-10.0) gives 0.0\n",
            "Applying Relu on (0.0) gives 0.0\n",
            "Applying Relu on (15.0) gives 15.0\n",
            "Applying Relu on (-20.0) gives 0.0\n"
          ],
          "name": "stdout"
        }
      ]
    },
    {
      "cell_type": "code",
      "metadata": {
        "colab": {
          "base_uri": "https://localhost:8080/",
          "height": 264
        },
        "id": "luLHYuXpXcFB",
        "outputId": "19d4d004-f522-4056-cb11-b6853206d3a7"
      },
      "source": [
        "from matplotlib import pyplot\r\n",
        " \r\n",
        "# rectified linear function\r\n",
        "def rectified(x):\r\n",
        "\treturn max(0.0, x)\r\n",
        " \r\n",
        "# define a series of inputs\r\n",
        "series_in = [x for x in range(-10, 11)]\r\n",
        "# calculate outputs for our inputs\r\n",
        "series_out = [rectified(x) for x in series_in]\r\n",
        "# line plot of raw inputs to rectified outputs\r\n",
        "pyplot.plot(series_in, series_out)\r\n",
        "pyplot.show()"
      ],
      "execution_count": 33,
      "outputs": [
        {
          "output_type": "display_data",
          "data": {
            "image/png": "[encoded data removed]",
            "text/plain": [
              "<Figure size 432x288 with 1 Axes>"
            ]
          },
          "metadata": {
            "tags": [],
            "needs_background": "light"
          }
        }
      ]
    },
    {
      "cell_type": "markdown",
      "metadata": {
        "id": "Kw4SbNlkX90t"
      },
      "source": [
        "**Leaky Relu Activation Function**"
      ]
    },
    {
      "cell_type": "code",
      "metadata": {
        "colab": {
          "base_uri": "https://localhost:8080/"
        },
        "id": "2zTGX1-1Xq20",
        "outputId": "278879bb-f97a-49fe-e7f0-ebd658adc036"
      },
      "source": [
        "def leaky_relu(x):\r\n",
        "  if x>0 :\r\n",
        "    return x\r\n",
        "  else :\r\n",
        "    return 0.01*x\r\n",
        "  \r\n",
        "x = 1.0\r\n",
        "print('Applying Leaky Relu on (%.1f) gives %.1f' % (x, leaky_relu(x)))\r\n",
        "x = -10.0\r\n",
        "print('Applying Leaky Relu on (%.1f) gives %.1f' % (x, leaky_relu(x)))\r\n",
        "x = 0.0\r\n",
        "print('Applying Leaky Relu on (%.1f) gives %.1f' % (x, leaky_relu(x)))\r\n",
        "x = 15.0\r\n",
        "print('Applying Leaky Relu on (%.1f) gives %.1f' % (x, leaky_relu(x)))\r\n",
        "x = -20.0\r\n",
        "print('Applying Leaky Relu on (%.1f) gives %.1f' % (x, leaky_relu(x)))"
      ],
      "execution_count": 34,
      "outputs": [
        {
          "output_type": "stream",
          "text": [
            "Applying Leaky Relu on (1.0) gives 1.0\n",
            "Applying Leaky Relu on (-10.0) gives -0.1\n",
            "Applying Leaky Relu on (0.0) gives 0.0\n",
            "Applying Leaky Relu on (15.0) gives 15.0\n",
            "Applying Leaky Relu on (-20.0) gives -0.2\n"
          ],
          "name": "stdout"
        }
      ]
    },
    {
      "cell_type": "code",
      "metadata": {
        "id": "IqaFMc8uwQM5"
      },
      "source": [
        "import numpy as np\r\n",
        "def leakyrelu(x):\r\n",
        "   return np.maximum(0.1*x,x)"
      ],
      "execution_count": 64,
      "outputs": []
    },
    {
      "cell_type": "code",
      "metadata": {
        "colab": {
          "base_uri": "https://localhost:8080/",
          "height": 264
        },
        "id": "YiFck8xpwboV",
        "outputId": "8821116d-7864-4bd1-e01c-fef6881fb568"
      },
      "source": [
        "# plot inputs and outputs\r\n",
        "from matplotlib import pyplot\r\n",
        " \r\n",
        "# rectified linear function\r\n",
        "def leakyrelu(x):\r\n",
        "   return np.maximum(0.1*x,x)\r\n",
        " \r\n",
        "# define a series of inputs\r\n",
        "series_in = [x for x in range(-10, 11)]\r\n",
        "# calculate outputs for our inputs\r\n",
        "series_out = [leakyrelu(x) for x in series_in]\r\n",
        "# line plot of raw inputs to rectified outputs\r\n",
        "pyplot.plot(series_in, series_out)\r\n",
        "pyplot.show()"
      ],
      "execution_count": 65,
      "outputs": [
        {
          "output_type": "display_data",
          "data": {
            "image/png": "[encoded data removed]",
            "text/plain": [
              "<Figure size 432x288 with 1 Axes>"
            ]
          },
          "metadata": {
            "tags": [],
            "needs_background": "light"
          }
        }
      ]
    },
    {
      "cell_type": "markdown",
      "metadata": {
        "id": "EbC6fr5qqUql"
      },
      "source": [
        "**Exponential Linear Unit (ELU)**"
      ]
    },
    {
      "cell_type": "code",
      "metadata": {
        "id": "TznU6IdSsg0P"
      },
      "source": [
        "import numpy as np\r\n",
        "import matplotlib.pyplot as plt\r\n",
        "\r\n",
        "X = np.arange(-10, 10, .2)\r\n",
        "Y = np.linspace(0, len(X), len(X))"
      ],
      "execution_count": 61,
      "outputs": []
    },
    {
      "cell_type": "code",
      "metadata": {
        "colab": {
          "base_uri": "https://localhost:8080/",
          "height": 294
        },
        "id": "Exr_lnWZt3A4",
        "outputId": "184ae57a-dfb0-403e-8f0a-94ccc4e6770d"
      },
      "source": [
        "def elu(arr, alpha):\r\n",
        "    a = []\r\n",
        "    for x in arr:\r\n",
        "        if x >= 0:\r\n",
        "            a.append(x)\r\n",
        "        else:\r\n",
        "            a.append(alpha * (np.exp(x)-1))\r\n",
        "    return a\r\n",
        "\r\n",
        "elu1 = elu(X, 1.0)\r\n",
        "\r\n",
        "plt.plot(X, elu1)\r\n",
        "plt.xlabel('X')\r\n",
        "plt.ylabel('Y')\r\n",
        "plt.title('ELU')\r\n",
        "plt.show()"
      ],
      "execution_count": 62,
      "outputs": [
        {
          "output_type": "display_data",
          "data": {
            "image/png": "[encoded data removed]",
            "text/plain": [
              "<Figure size 432x288 with 1 Axes>"
            ]
          },
          "metadata": {
            "tags": [],
            "needs_background": "light"
          }
        }
      ]
    },
    {
      "cell_type": "code",
      "metadata": {
        "id": "Xx6gC4SouKJ8"
      },
      "source": [
        ""
      ],
      "execution_count": null,
      "outputs": []
    }
  ]
}