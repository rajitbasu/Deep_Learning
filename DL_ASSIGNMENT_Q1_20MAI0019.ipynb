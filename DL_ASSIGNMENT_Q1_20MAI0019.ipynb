{
  "nbformat": 4,
  "nbformat_minor": 0,
  "metadata": {
    "colab": {
      "name": "DL_ASSIGNMENT Q1_20MAI0019.ipynb",
      "provenance": [],
      "mount_file_id": "1o4P9umg86k46vB_p-Qgo2CW36EllPW6L",
      "authorship_tag": "ABX9TyOS/svriQP77fa8+zuDyBKQ",
      "include_colab_link": true
    },
    "kernelspec": {
      "name": "python3",
      "display_name": "Python 3"
    }
  },
  "cells": [
    {
      "cell_type": "markdown",
      "metadata": {
        "id": "view-in-github",
        "colab_type": "text"
      },
      "source": [
        "<a href=\"https://colab.research.google.com/github/rajitbasu/Deep_Learning/blob/main/DL_ASSIGNMENT_Q1_20MAI0019.ipynb\" target=\"_parent\"><img src=\"https://colab.research.google.com/assets/colab-badge.svg\" alt=\"Open In Colab\"/></a>"
      ]
    },
    {
      "cell_type": "code",
      "metadata": {
        "id": "VvAOjEELjF48"
      },
      "source": [
        "# RAJIT BASU_20MAI0019\r\n",
        "# Github link"
      ],
      "execution_count": 2,
      "outputs": []
    },
    {
      "cell_type": "markdown",
      "metadata": {
        "id": "593GjozcYz6y"
      },
      "source": [
        "https://github.com/rajitbasu/Deep_Learning/blob/main/DL_ASSIGNMENT_Q1_20MAI0019.ipynb"
      ]
    },
    {
      "cell_type": "code",
      "metadata": {
        "id": "PfKTL8L_zhJk"
      },
      "source": [
        "import numpy as np"
      ],
      "execution_count": 5,
      "outputs": []
    },
    {
      "cell_type": "code",
      "metadata": {
        "colab": {
          "base_uri": "https://localhost:8080/"
        },
        "id": "CC8U1UTyBP--",
        "outputId": "9197dfa5-f20a-4776-ab0a-5ee7fc5fec9c"
      },
      "source": [
        "values = ([1,2],[3,4],[5,6])\r\n",
        "print(\"Training input values without Bias\\n\", values)"
      ],
      "execution_count": 6,
      "outputs": [
        {
          "output_type": "stream",
          "text": [
            "Training input values without Bias\n",
            " ([1, 2], [3, 4], [5, 6])\n"
          ],
          "name": "stdout"
        }
      ]
    },
    {
      "cell_type": "code",
      "metadata": {
        "colab": {
          "base_uri": "https://localhost:8080/"
        },
        "id": "tgShP0EXBVc8",
        "outputId": "6d7878ca-716e-48f0-fdaf-83c9b29fa84c"
      },
      "source": [
        "#Adding Bias to the input values\r\n",
        "test1 = [[-1]] * len(values)\r\n",
        "values = np.concatenate((test1, values), axis = 1)  \r\n",
        "print(\"Training input values with bias in it\\n\",values)\r\n"
      ],
      "execution_count": 7,
      "outputs": [
        {
          "output_type": "stream",
          "text": [
            "Training input values with bias in it\n",
            " [[-1  1  2]\n",
            " [-1  3  4]\n",
            " [-1  5  6]]\n"
          ],
          "name": "stdout"
        }
      ]
    },
    {
      "cell_type": "code",
      "metadata": {
        "colab": {
          "base_uri": "https://localhost:8080/"
        },
        "id": "ISh-efztBjck",
        "outputId": "dc51466e-0fb9-40b2-c64d-5364be63bbac"
      },
      "source": [
        "#Creating random weights\r\n",
        "m=3     #number of elements in each row of inputs\r\n",
        "n=1 \r\n",
        "weights = np.random.rand(m,n)*0.1 - 0.5\r\n",
        "print(\"Initial random weights\\n\",weights)"
      ],
      "execution_count": 8,
      "outputs": [
        {
          "output_type": "stream",
          "text": [
            "Initial random weights\n",
            " [[-0.49169254]\n",
            " [-0.45410695]\n",
            " [-0.49872776]]\n"
          ],
          "name": "stdout"
        }
      ]
    },
    {
      "cell_type": "code",
      "metadata": {
        "colab": {
          "base_uri": "https://localhost:8080/"
        },
        "id": "tIklr9ACBxq5",
        "outputId": "2e1323a0-d267-4fcd-a20d-bd824854bed6"
      },
      "source": [
        "#Target values Matrix\r\n",
        "final = ([0],[1],[1])\r\n",
        "print(\"Training data target values are\\n\", final)\r\n"
      ],
      "execution_count": 9,
      "outputs": [
        {
          "output_type": "stream",
          "text": [
            "Training data target values are\n",
            " ([0], [1], [1])\n"
          ],
          "name": "stdout"
        }
      ]
    },
    {
      "cell_type": "code",
      "metadata": {
        "id": "W8KgFKjoB17C"
      },
      "source": [
        "#Method for updating weights\r\n",
        "def updateWeights(weights, inputs, activation, targets):\r\n",
        "    eta = 0.25\r\n",
        "    weights += eta*np.dot(np.transpose(inputs), targets - activation)\r\n",
        "    return weights\r\n"
      ],
      "execution_count": 10,
      "outputs": []
    },
    {
      "cell_type": "code",
      "metadata": {
        "id": "ulUz6i72B7m7"
      },
      "source": [
        "#Creating Methods for Learning\r\n",
        "def  prediction (inputs, weights, targets):\r\n",
        "    #representing Activation function with 'ack [[]]' variable\r\n",
        "    ack = [[0]] * len(inputs)\r\n",
        "    for i in range(0, len(inputs)):    \r\n",
        "        for j in range(0,len(weights)):\r\n",
        "            ack[i] += inputs[i][j] * weights[j]\r\n",
        "        ack[i] = np.where(ack[i]>0, 1, 0)\r\n",
        "        #checking values with target\r\n",
        "        if(targets[i] != ack[i]):\r\n",
        "            weights = updateWeights(weights, inputs, ack[i], targets)\r\n",
        "        print(ack[i])\r\n",
        "    return weights\r\n"
      ],
      "execution_count": 11,
      "outputs": []
    },
    {
      "cell_type": "code",
      "metadata": {
        "colab": {
          "base_uri": "https://localhost:8080/"
        },
        "id": "8gWQZyPmCAim",
        "outputId": "1f6a6f94-6e81-4cef-be7a-e636a6c132cc"
      },
      "source": [
        "#Training our model and extracting stable weights\r\n",
        "iterations = 5\r\n",
        "for temp in range(0, iterations):\r\n",
        "    print(\"\\nIteration \",temp+1,\"\\n\")\r\n",
        "    weights = prediction(values, weights, final)\r\n",
        "    \r\n",
        "print(\"\\nTrained Weights\\n\", weights)"
      ],
      "execution_count": 12,
      "outputs": [
        {
          "output_type": "stream",
          "text": [
            "\n",
            "Iteration  1 \n",
            "\n",
            "[0]\n",
            "[0]\n",
            "[1]\n",
            "\n",
            "Iteration  2 \n",
            "\n",
            "[1]\n",
            "[1]\n",
            "[1]\n",
            "\n",
            "Iteration  3 \n",
            "\n",
            "[1]\n",
            "[1]\n",
            "[1]\n",
            "\n",
            "Iteration  4 \n",
            "\n",
            "[1]\n",
            "[1]\n",
            "[1]\n",
            "\n",
            "Iteration  5 \n",
            "\n",
            "[1]\n",
            "[1]\n",
            "[1]\n",
            "\n",
            "Trained Weights\n",
            " [[0.00830746]\n",
            " [0.54589305]\n",
            " [0.00127224]]\n"
          ],
          "name": "stdout"
        }
      ]
    },
    {
      "cell_type": "code",
      "metadata": {
        "colab": {
          "base_uri": "https://localhost:8080/"
        },
        "id": "IkC1FJ1RCG6l",
        "outputId": "2fb809aa-cf6e-4d9b-99f5-b4b9c95917b1"
      },
      "source": [
        "#Testing our own data\r\n",
        "def perceptronPredict(weights, newInput):\r\n",
        "    ac = np.dot(newInput, weights)\r\n",
        "    ac = np.where(ac>0, 1, 0)\r\n",
        "    print(ac)\r\n",
        "\r\n",
        "\r\n",
        "newInput = ([4, 7, 8])\r\n",
        "perceptronPredict(weights, newInput)"
      ],
      "execution_count": 13,
      "outputs": [
        {
          "output_type": "stream",
          "text": [
            "[1]\n"
          ],
          "name": "stdout"
        }
      ]
    },
    {
      "cell_type": "code",
      "metadata": {
        "id": "tflaW4-SCN5P"
      },
      "source": [
        ""
      ],
      "execution_count": null,
      "outputs": []
    }
  ]
}