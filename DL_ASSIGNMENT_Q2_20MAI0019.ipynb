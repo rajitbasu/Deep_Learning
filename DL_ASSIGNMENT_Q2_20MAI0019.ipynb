{
  "nbformat": 4,
  "nbformat_minor": 0,
  "metadata": {
    "colab": {
      "name": "DL_ASSIGNMENT Q2_20MAI0019.ipynb",
      "provenance": [],
      "mount_file_id": "1CJ_LL821OeLQykcLMBuULqfyR_DAw19-",
      "authorship_tag": "ABX9TyNWv7sod+YjTl+WqR+CGJVJ",
      "include_colab_link": true
    },
    "kernelspec": {
      "name": "python3",
      "display_name": "Python 3"
    }
  },
  "cells": [
    {
      "cell_type": "markdown",
      "metadata": {
        "id": "view-in-github",
        "colab_type": "text"
      },
      "source": [
        "<a href=\"https://colab.research.google.com/github/rajitbasu/Deep_Learning/blob/main/DL_ASSIGNMENT_Q2_20MAI0019.ipynb\" target=\"_parent\"><img src=\"https://colab.research.google.com/assets/colab-badge.svg\" alt=\"Open In Colab\"/></a>"
      ]
    },
    {
      "cell_type": "code",
      "metadata": {
        "id": "DBBGYD2DL8w-"
      },
      "source": [
        "# RAJIT BASU_20MAI0019\r\n",
        "# Github_link"
      ],
      "execution_count": 43,
      "outputs": []
    },
    {
      "cell_type": "markdown",
      "metadata": {
        "id": "GtADvUe2R1NY"
      },
      "source": [
        "https://github.com/rajitbasu/Deep_Learning/blob/main/DL_ASSIGNMENT_Q2_20MAI0019.ipynb"
      ]
    },
    {
      "cell_type": "code",
      "metadata": {
        "id": "Mi6s2UjSNHoV"
      },
      "source": [
        "import  numpy as np\r\n",
        "import matplotlib.pyplot as plt\r\n",
        "import pandas as pd"
      ],
      "execution_count": 2,
      "outputs": []
    },
    {
      "cell_type": "code",
      "metadata": {
        "id": "R4G1kyz9NLTN"
      },
      "source": [
        "#importing dataset\r\n",
        "data =pd.read_csv(\"/content/drive/MyDrive/loan.csv\")"
      ],
      "execution_count": 4,
      "outputs": []
    },
    {
      "cell_type": "code",
      "metadata": {
        "colab": {
          "base_uri": "https://localhost:8080/"
        },
        "id": "-AsVp_eGNUXV",
        "outputId": "41383a2c-2dc8-4d28-eec5-e151f87dd2cd"
      },
      "source": [
        "data.shape"
      ],
      "execution_count": 6,
      "outputs": [
        {
          "output_type": "execute_result",
          "data": {
            "text/plain": [
              "(10000, 14)"
            ]
          },
          "metadata": {
            "tags": []
          },
          "execution_count": 6
        }
      ]
    },
    {
      "cell_type": "code",
      "metadata": {
        "colab": {
          "base_uri": "https://localhost:8080/",
          "height": 284
        },
        "id": "5Feg_ot3NY98",
        "outputId": "6c1345f4-f7bc-42b6-e822-34b764fe7eb9"
      },
      "source": [
        "dataset.head()"
      ],
      "execution_count": 7,
      "outputs": [
        {
          "output_type": "execute_result",
          "data": {
            "text/html": [
              "<div>\n",
              "<style scoped>\n",
              "    .dataframe tbody tr th:only-of-type {\n",
              "        vertical-align: middle;\n",
              "    }\n",
              "\n",
              "    .dataframe tbody tr th {\n",
              "        vertical-align: top;\n",
              "    }\n",
              "\n",
              "    .dataframe thead th {\n",
              "        text-align: right;\n",
              "    }\n",
              "</style>\n",
              "<table border=\"1\" class=\"dataframe\">\n",
              "  <thead>\n",
              "    <tr style=\"text-align: right;\">\n",
              "      <th></th>\n",
              "      <th>customer_id</th>\n",
              "      <th>disbursed_amount</th>\n",
              "      <th>interest</th>\n",
              "      <th>market</th>\n",
              "      <th>employment</th>\n",
              "      <th>time_employed</th>\n",
              "      <th>householder</th>\n",
              "      <th>income</th>\n",
              "      <th>date_issued</th>\n",
              "      <th>target</th>\n",
              "      <th>loan_purpose</th>\n",
              "      <th>number_open_accounts</th>\n",
              "      <th>date_last_payment</th>\n",
              "      <th>number_credit_lines_12</th>\n",
              "    </tr>\n",
              "  </thead>\n",
              "  <tbody>\n",
              "    <tr>\n",
              "      <th>0</th>\n",
              "      <td>0</td>\n",
              "      <td>23201.5</td>\n",
              "      <td>15.4840</td>\n",
              "      <td>C</td>\n",
              "      <td>Teacher</td>\n",
              "      <td>&lt;=5 years</td>\n",
              "      <td>RENT</td>\n",
              "      <td>84600.0</td>\n",
              "      <td>2013-06-11</td>\n",
              "      <td>0</td>\n",
              "      <td>Debt consolidation</td>\n",
              "      <td>4.0</td>\n",
              "      <td>2016-01-14</td>\n",
              "      <td>NaN</td>\n",
              "    </tr>\n",
              "    <tr>\n",
              "      <th>1</th>\n",
              "      <td>1</td>\n",
              "      <td>7425.0</td>\n",
              "      <td>11.2032</td>\n",
              "      <td>B</td>\n",
              "      <td>Accountant</td>\n",
              "      <td>&lt;=5 years</td>\n",
              "      <td>OWNER</td>\n",
              "      <td>102000.0</td>\n",
              "      <td>2014-05-08</td>\n",
              "      <td>0</td>\n",
              "      <td>Car purchase</td>\n",
              "      <td>13.0</td>\n",
              "      <td>2016-01-25</td>\n",
              "      <td>NaN</td>\n",
              "    </tr>\n",
              "    <tr>\n",
              "      <th>2</th>\n",
              "      <td>2</td>\n",
              "      <td>11150.0</td>\n",
              "      <td>8.5100</td>\n",
              "      <td>A</td>\n",
              "      <td>Statistician</td>\n",
              "      <td>&lt;=5 years</td>\n",
              "      <td>RENT</td>\n",
              "      <td>69840.0</td>\n",
              "      <td>2013-10-26</td>\n",
              "      <td>0</td>\n",
              "      <td>Debt consolidation</td>\n",
              "      <td>8.0</td>\n",
              "      <td>2014-09-26</td>\n",
              "      <td>NaN</td>\n",
              "    </tr>\n",
              "    <tr>\n",
              "      <th>3</th>\n",
              "      <td>3</td>\n",
              "      <td>7600.0</td>\n",
              "      <td>5.8656</td>\n",
              "      <td>A</td>\n",
              "      <td>Other</td>\n",
              "      <td>&lt;=5 years</td>\n",
              "      <td>RENT</td>\n",
              "      <td>100386.0</td>\n",
              "      <td>2015-08-20</td>\n",
              "      <td>0</td>\n",
              "      <td>Debt consolidation</td>\n",
              "      <td>20.0</td>\n",
              "      <td>2016-01-26</td>\n",
              "      <td>NaN</td>\n",
              "    </tr>\n",
              "    <tr>\n",
              "      <th>4</th>\n",
              "      <td>4</td>\n",
              "      <td>31960.0</td>\n",
              "      <td>18.7392</td>\n",
              "      <td>E</td>\n",
              "      <td>Bus driver</td>\n",
              "      <td>&gt;5 years</td>\n",
              "      <td>RENT</td>\n",
              "      <td>95040.0</td>\n",
              "      <td>2014-07-22</td>\n",
              "      <td>0</td>\n",
              "      <td>Debt consolidation</td>\n",
              "      <td>14.0</td>\n",
              "      <td>2016-01-11</td>\n",
              "      <td>NaN</td>\n",
              "    </tr>\n",
              "  </tbody>\n",
              "</table>\n",
              "</div>"
            ],
            "text/plain": [
              "   customer_id  disbursed_amount  ...  date_last_payment number_credit_lines_12\n",
              "0            0           23201.5  ...         2016-01-14                    NaN\n",
              "1            1            7425.0  ...         2016-01-25                    NaN\n",
              "2            2           11150.0  ...         2014-09-26                    NaN\n",
              "3            3            7600.0  ...         2016-01-26                    NaN\n",
              "4            4           31960.0  ...         2016-01-11                    NaN\n",
              "\n",
              "[5 rows x 14 columns]"
            ]
          },
          "metadata": {
            "tags": []
          },
          "execution_count": 7
        }
      ]
    },
    {
      "cell_type": "code",
      "metadata": {
        "colab": {
          "base_uri": "https://localhost:8080/"
        },
        "id": "wTjzyeCqOA37",
        "outputId": "9966d05c-5237-4609-b88f-a005afed3d03"
      },
      "source": [
        "data['target'].unique()"
      ],
      "execution_count": 8,
      "outputs": [
        {
          "output_type": "execute_result",
          "data": {
            "text/plain": [
              "array([0, 1])"
            ]
          },
          "metadata": {
            "tags": []
          },
          "execution_count": 8
        }
      ]
    },
    {
      "cell_type": "code",
      "metadata": {
        "colab": {
          "base_uri": "https://localhost:8080/"
        },
        "id": "MyrRJQUDOrCx",
        "outputId": "fc4b6b35-c1e9-4bec-dee1-7ca98b97fbd5"
      },
      "source": [
        "# Continous Variables\r\n",
        "dataset['disbursed_amount'].unique()"
      ],
      "execution_count": 14,
      "outputs": [
        {
          "output_type": "execute_result",
          "data": {
            "text/plain": [
              "array([23201.5 ,  7425.  , 11150.  , ...,  6279.  , 12894.75, 25584.  ])"
            ]
          },
          "metadata": {
            "tags": []
          },
          "execution_count": 14
        }
      ]
    },
    {
      "cell_type": "code",
      "metadata": {
        "colab": {
          "base_uri": "https://localhost:8080/"
        },
        "id": "UlBbJ-HjO7JD",
        "outputId": "61c7360f-b18f-4ef9-98f8-341b20159e2a"
      },
      "source": [
        "dataset['interest'].unique()"
      ],
      "execution_count": 15,
      "outputs": [
        {
          "output_type": "execute_result",
          "data": {
            "text/plain": [
              "array([15.484 , 11.2032,  8.51  , ..., 12.9195, 11.2332, 11.0019])"
            ]
          },
          "metadata": {
            "tags": []
          },
          "execution_count": 15
        }
      ]
    },
    {
      "cell_type": "code",
      "metadata": {
        "colab": {
          "base_uri": "https://localhost:8080/"
        },
        "id": "tSAS2rD5PT04",
        "outputId": "5b0ac800-2b0d-404d-f5b1-d4f5f870f612"
      },
      "source": [
        "dataset['number_open_accounts'].unique()"
      ],
      "execution_count": 16,
      "outputs": [
        {
          "output_type": "execute_result",
          "data": {
            "text/plain": [
              "array([ 4., 13.,  8., 20., 14.,  5.,  9., 18., 16., 17., 12., 15.,  6.,\n",
              "       10., 11.,  7., 21., 19., 26.,  2., 22., 27., 23., 25., 24., 28.,\n",
              "        3., 30., 41., 32., 33., 31., 29., 37., 49., 34., 35., 38.,  1.,\n",
              "       36., 42., 47., 40., 44., 43.])"
            ]
          },
          "metadata": {
            "tags": []
          },
          "execution_count": 16
        }
      ]
    },
    {
      "cell_type": "code",
      "metadata": {
        "colab": {
          "base_uri": "https://localhost:8080/"
        },
        "id": "4KpOj-PFPW3C",
        "outputId": "ca7a70f3-6de9-4e7b-e98c-7bd8335e3fb4"
      },
      "source": [
        "dataset['householder'].value_counts()"
      ],
      "execution_count": 17,
      "outputs": [
        {
          "output_type": "execute_result",
          "data": {
            "text/plain": [
              "MORTGAGE    4957\n",
              "RENT        4055\n",
              "OWNER        988\n",
              "Name: householder, dtype: int64"
            ]
          },
          "metadata": {
            "tags": []
          },
          "execution_count": 17
        }
      ]
    },
    {
      "cell_type": "code",
      "metadata": {
        "colab": {
          "base_uri": "https://localhost:8080/"
        },
        "id": "GzsYJLf_PaJO",
        "outputId": "e3288f32-3b2f-40e3-930d-725bc008d5c8"
      },
      "source": [
        "dataset[['date_issued','date_last_payment']].dtypes"
      ],
      "execution_count": 18,
      "outputs": [
        {
          "output_type": "execute_result",
          "data": {
            "text/plain": [
              "date_issued          object\n",
              "date_last_payment    object\n",
              "dtype: object"
            ]
          },
          "metadata": {
            "tags": []
          },
          "execution_count": 18
        }
      ]
    },
    {
      "cell_type": "code",
      "metadata": {
        "id": "Gqt4f1MyPxZ5"
      },
      "source": [
        "dataset['date_issued_dt'] = pd.to_datetime(dataset['date_issued'])"
      ],
      "execution_count": 19,
      "outputs": []
    },
    {
      "cell_type": "code",
      "metadata": {
        "id": "maiGdAYbPz4m"
      },
      "source": [
        "dataset['date_last_payment_dt'] = pd.to_datetime(dataset['date_last_payment'])"
      ],
      "execution_count": 20,
      "outputs": []
    },
    {
      "cell_type": "code",
      "metadata": {
        "id": "zR0WwBDSP1t2"
      },
      "source": [
        "dataset['year']= dataset['date_issued_dt'].dt.year"
      ],
      "execution_count": 21,
      "outputs": []
    },
    {
      "cell_type": "code",
      "metadata": {
        "id": "oHhPWgzNP3gN"
      },
      "source": [
        "dataset['month']= dataset['date_issued_dt'].dt.month"
      ],
      "execution_count": 22,
      "outputs": []
    },
    {
      "cell_type": "code",
      "metadata": {
        "colab": {
          "base_uri": "https://localhost:8080/",
          "height": 301
        },
        "id": "3_9t_LhTP5pL",
        "outputId": "6dc648bc-17e9-40c2-e591-d47e6ae19b02"
      },
      "source": [
        "dataset.tail()"
      ],
      "execution_count": 27,
      "outputs": [
        {
          "output_type": "execute_result",
          "data": {
            "text/html": [
              "<div>\n",
              "<style scoped>\n",
              "    .dataframe tbody tr th:only-of-type {\n",
              "        vertical-align: middle;\n",
              "    }\n",
              "\n",
              "    .dataframe tbody tr th {\n",
              "        vertical-align: top;\n",
              "    }\n",
              "\n",
              "    .dataframe thead th {\n",
              "        text-align: right;\n",
              "    }\n",
              "</style>\n",
              "<table border=\"1\" class=\"dataframe\">\n",
              "  <thead>\n",
              "    <tr style=\"text-align: right;\">\n",
              "      <th></th>\n",
              "      <th>customer_id</th>\n",
              "      <th>disbursed_amount</th>\n",
              "      <th>interest</th>\n",
              "      <th>market</th>\n",
              "      <th>employment</th>\n",
              "      <th>time_employed</th>\n",
              "      <th>householder</th>\n",
              "      <th>income</th>\n",
              "      <th>date_issued</th>\n",
              "      <th>target</th>\n",
              "      <th>loan_purpose</th>\n",
              "      <th>number_open_accounts</th>\n",
              "      <th>date_last_payment</th>\n",
              "      <th>number_credit_lines_12</th>\n",
              "      <th>date_issued_dt</th>\n",
              "      <th>date_last_payment_dt</th>\n",
              "      <th>year</th>\n",
              "      <th>month</th>\n",
              "    </tr>\n",
              "  </thead>\n",
              "  <tbody>\n",
              "    <tr>\n",
              "      <th>9995</th>\n",
              "      <td>9995</td>\n",
              "      <td>23750.0</td>\n",
              "      <td>11.0019</td>\n",
              "      <td>B</td>\n",
              "      <td>Civil Servant</td>\n",
              "      <td>&lt;=5 years</td>\n",
              "      <td>MORTGAGE</td>\n",
              "      <td>98000.0</td>\n",
              "      <td>2010-01-14</td>\n",
              "      <td>0</td>\n",
              "      <td>Other</td>\n",
              "      <td>12.0</td>\n",
              "      <td>2010-11-03</td>\n",
              "      <td>NaN</td>\n",
              "      <td>2010-01-14</td>\n",
              "      <td>2010-11-03</td>\n",
              "      <td>2010</td>\n",
              "      <td>1</td>\n",
              "    </tr>\n",
              "    <tr>\n",
              "      <th>9996</th>\n",
              "      <td>9996</td>\n",
              "      <td>11880.0</td>\n",
              "      <td>10.4923</td>\n",
              "      <td>B</td>\n",
              "      <td>Civil Servant</td>\n",
              "      <td>&lt;=5 years</td>\n",
              "      <td>RENT</td>\n",
              "      <td>36270.0</td>\n",
              "      <td>2015-03-20</td>\n",
              "      <td>0</td>\n",
              "      <td>Debt consolidation</td>\n",
              "      <td>17.0</td>\n",
              "      <td>2016-01-26</td>\n",
              "      <td>NaN</td>\n",
              "      <td>2015-03-20</td>\n",
              "      <td>2016-01-26</td>\n",
              "      <td>2015</td>\n",
              "      <td>3</td>\n",
              "    </tr>\n",
              "    <tr>\n",
              "      <th>9997</th>\n",
              "      <td>9997</td>\n",
              "      <td>19950.0</td>\n",
              "      <td>8.4364</td>\n",
              "      <td>B</td>\n",
              "      <td>Accountant</td>\n",
              "      <td>&gt;5 years</td>\n",
              "      <td>OWNER</td>\n",
              "      <td>52250.0</td>\n",
              "      <td>2015-04-03</td>\n",
              "      <td>0</td>\n",
              "      <td>Debt consolidation</td>\n",
              "      <td>9.0</td>\n",
              "      <td>2015-12-12</td>\n",
              "      <td>NaN</td>\n",
              "      <td>2015-04-03</td>\n",
              "      <td>2015-12-12</td>\n",
              "      <td>2015</td>\n",
              "      <td>4</td>\n",
              "    </tr>\n",
              "    <tr>\n",
              "      <th>9998</th>\n",
              "      <td>9998</td>\n",
              "      <td>4850.0</td>\n",
              "      <td>13.6409</td>\n",
              "      <td>C</td>\n",
              "      <td>Bus driver</td>\n",
              "      <td>&gt;5 years</td>\n",
              "      <td>RENT</td>\n",
              "      <td>80040.0</td>\n",
              "      <td>2014-11-23</td>\n",
              "      <td>0</td>\n",
              "      <td>Debt consolidation</td>\n",
              "      <td>26.0</td>\n",
              "      <td>2016-01-01</td>\n",
              "      <td>NaN</td>\n",
              "      <td>2014-11-23</td>\n",
              "      <td>2016-01-01</td>\n",
              "      <td>2014</td>\n",
              "      <td>11</td>\n",
              "    </tr>\n",
              "    <tr>\n",
              "      <th>9999</th>\n",
              "      <td>9999</td>\n",
              "      <td>25584.0</td>\n",
              "      <td>17.1456</td>\n",
              "      <td>D</td>\n",
              "      <td>Accountant</td>\n",
              "      <td>&gt;5 years</td>\n",
              "      <td>MORTGAGE</td>\n",
              "      <td>72000.0</td>\n",
              "      <td>2015-01-19</td>\n",
              "      <td>0</td>\n",
              "      <td>Debt consolidation</td>\n",
              "      <td>5.0</td>\n",
              "      <td>2016-01-16</td>\n",
              "      <td>NaN</td>\n",
              "      <td>2015-01-19</td>\n",
              "      <td>2016-01-16</td>\n",
              "      <td>2015</td>\n",
              "      <td>1</td>\n",
              "    </tr>\n",
              "  </tbody>\n",
              "</table>\n",
              "</div>"
            ],
            "text/plain": [
              "      customer_id  disbursed_amount  interest  ... date_last_payment_dt  year month\n",
              "9995         9995           23750.0   11.0019  ...           2010-11-03  2010     1\n",
              "9996         9996           11880.0   10.4923  ...           2016-01-26  2015     3\n",
              "9997         9997           19950.0    8.4364  ...           2015-12-12  2015     4\n",
              "9998         9998            4850.0   13.6409  ...           2016-01-01  2014    11\n",
              "9999         9999           25584.0   17.1456  ...           2016-01-16  2015     1\n",
              "\n",
              "[5 rows x 18 columns]"
            ]
          },
          "metadata": {
            "tags": []
          },
          "execution_count": 27
        }
      ]
    },
    {
      "cell_type": "code",
      "metadata": {
        "colab": {
          "base_uri": "https://localhost:8080/"
        },
        "id": "zQJIn5OEP7mi",
        "outputId": "97c2f3b1-822e-4208-b9c6-7b5452465403"
      },
      "source": [
        "dataset.shape"
      ],
      "execution_count": 26,
      "outputs": [
        {
          "output_type": "execute_result",
          "data": {
            "text/plain": [
              "(10000, 18)"
            ]
          },
          "metadata": {
            "tags": []
          },
          "execution_count": 26
        }
      ]
    },
    {
      "cell_type": "code",
      "metadata": {
        "id": "2BRpwHqiQCFT"
      },
      "source": [
        "X=dataset.iloc[:, [0,1,2,7,11,16,17]].values\r\n",
        "y=dataset.iloc[:,9].values"
      ],
      "execution_count": 36,
      "outputs": []
    },
    {
      "cell_type": "code",
      "metadata": {
        "id": "y4krhZ6sQHak"
      },
      "source": [
        "#splitting into train and test set\r\n",
        "from sklearn.model_selection import train_test_split\r\n",
        "X_train,X_test,y_train,y_test = train_test_split(X,y, test_size = 0.1, random_state =0)"
      ],
      "execution_count": 37,
      "outputs": []
    },
    {
      "cell_type": "code",
      "metadata": {
        "id": "xXHXBHQEQKlC"
      },
      "source": [
        "from sklearn.linear_model import Perceptron\r\n",
        "per=Perceptron(random_state=0)"
      ],
      "execution_count": 38,
      "outputs": []
    },
    {
      "cell_type": "code",
      "metadata": {
        "colab": {
          "base_uri": "https://localhost:8080/"
        },
        "id": "pWnYdt38QObj",
        "outputId": "b4ed521b-c2de-479f-b3ea-6553456fb4b3"
      },
      "source": [
        "per.fit(X_train,y_train)"
      ],
      "execution_count": 39,
      "outputs": [
        {
          "output_type": "execute_result",
          "data": {
            "text/plain": [
              "Perceptron(alpha=0.0001, class_weight=None, early_stopping=False, eta0=1.0,\n",
              "           fit_intercept=True, max_iter=1000, n_iter_no_change=5, n_jobs=None,\n",
              "           penalty=None, random_state=0, shuffle=True, tol=0.001,\n",
              "           validation_fraction=0.1, verbose=0, warm_start=False)"
            ]
          },
          "metadata": {
            "tags": []
          },
          "execution_count": 39
        }
      ]
    },
    {
      "cell_type": "code",
      "metadata": {
        "id": "4kzt3rH1QQ2R"
      },
      "source": [
        "pred=per.predict(X_test)"
      ],
      "execution_count": 40,
      "outputs": []
    },
    {
      "cell_type": "code",
      "metadata": {
        "colab": {
          "base_uri": "https://localhost:8080/"
        },
        "id": "ctRnZ0usQTuu",
        "outputId": "c2ec8bd8-2052-479b-b621-b3b543c0ac1b"
      },
      "source": [
        "from sklearn.metrics import accuracy_score\r\n",
        "print('Accuracy score')\r\n",
        "accuracy_score(y_test,pred)*100"
      ],
      "execution_count": 41,
      "outputs": [
        {
          "output_type": "stream",
          "text": [
            "Accuracy score\n"
          ],
          "name": "stdout"
        },
        {
          "output_type": "execute_result",
          "data": {
            "text/plain": [
              "98.8"
            ]
          },
          "metadata": {
            "tags": []
          },
          "execution_count": 41
        }
      ]
    },
    {
      "cell_type": "code",
      "metadata": {
        "colab": {
          "base_uri": "https://localhost:8080/",
          "height": 282
        },
        "id": "T39xkOjhQWjE",
        "outputId": "83d11dbb-2774-4c0c-9b3c-af53b470d455"
      },
      "source": [
        "from sklearn.metrics import confusion_matrix\r\n",
        "import seaborn as sns\r\n",
        "cm1=confusion_matrix(y_test,pred)\r\n",
        "sns.heatmap(cm1, cmap=\"plasma\",annot=True)"
      ],
      "execution_count": 42,
      "outputs": [
        {
          "output_type": "execute_result",
          "data": {
            "text/plain": [
              "<matplotlib.axes._subplots.AxesSubplot at 0x7fc08620a490>"
            ]
          },
          "metadata": {
            "tags": []
          },
          "execution_count": 42
        },
        {
          "output_type": "display_data",
          "data": {
            "image/png": "[encoded data removed]",
            "text/plain": [
              "<Figure size 432x288 with 2 Axes>"
            ]
          },
          "metadata": {
            "tags": [],
            "needs_background": "light"
          }
        }
      ]
    },
    {
      "cell_type": "code",
      "metadata": {
        "id": "pJoXTp5AQYui"
      },
      "source": [
        ""
      ],
      "execution_count": null,
      "outputs": []
    }
  ]
}