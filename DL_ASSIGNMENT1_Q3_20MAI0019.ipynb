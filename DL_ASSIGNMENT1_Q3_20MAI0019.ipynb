{
  "nbformat": 4,
  "nbformat_minor": 0,
  "metadata": {
    "colab": {
      "name": "DL_ASSIGNMENT Q3_20MAI0019.ipynb",
      "provenance": [],
      "mount_file_id": "1ZjFK5K06yxhb5MaT3HVxyIjRGk11FEos",
      "authorship_tag": "ABX9TyNpjAXp64QyqjvgGs86sdZ5",
      "include_colab_link": true
    },
    "kernelspec": {
      "name": "python3",
      "display_name": "Python 3"
    }
  },
  "cells": [
    {
      "cell_type": "markdown",
      "metadata": {
        "id": "view-in-github",
        "colab_type": "text"
      },
      "source": [
        "<a href=\"https://colab.research.google.com/github/rajitbasu/Deep_Learning/blob/main/DL_ASSIGNMENT_Q3_20MAI0019.ipynb\" target=\"_parent\"><img src=\"https://colab.research.google.com/assets/colab-badge.svg\" alt=\"Open In Colab\"/></a>"
      ]
    },
    {
      "cell_type": "code",
      "metadata": {
        "id": "MwSGEqmw0T9s"
      },
      "source": [
        "# RAJIT BASU_20MAI0019\r\n",
        "# Github link"
      ],
      "execution_count": 2,
      "outputs": []
    },
    {
      "cell_type": "markdown",
      "metadata": {
        "id": "gM2Mtq0SWFKS"
      },
      "source": [
        "https://github.com/rajitbasu/Deep_Learning/blob/main/DL_ASSIGNMENT_Q3_20MAI0019.ipynb\r\n"
      ]
    },
    {
      "cell_type": "code",
      "metadata": {
        "id": "MXidVTrNAIKk"
      },
      "source": [
        "import keras\r\n",
        "from keras.models import Sequential\r\n",
        "from keras.layers import Conv2D,Dense,Flatten\r\n",
        "import matplotlib.pyplot as plt\r\n",
        "from keras.utils import to_categorical\r\n",
        "import numpy as np"
      ],
      "execution_count": 11,
      "outputs": []
    },
    {
      "cell_type": "code",
      "metadata": {
        "colab": {
          "base_uri": "https://localhost:8080/"
        },
        "id": "3lp_iseuU-lM",
        "outputId": "0ffcf466-3f21-41c7-b769-0a8e7fe7c017"
      },
      "source": [
        "from keras.datasets import mnist\r\n",
        "(train_img, train_lab), (test_img, test_lab) = mnist.load_data()"
      ],
      "execution_count": 12,
      "outputs": [
        {
          "output_type": "stream",
          "text": [
            "Downloading data from https://storage.googleapis.com/tensorflow/tf-keras-datasets/mnist.npz\n",
            "11493376/11490434 [==============================] - 0s 0us/step\n"
          ],
          "name": "stdout"
        }
      ]
    },
    {
      "cell_type": "code",
      "metadata": {
        "colab": {
          "base_uri": "https://localhost:8080/"
        },
        "id": "7JFAKsuwVIET",
        "outputId": "7c19e1b9-0d6e-464e-8875-81ebd6f97a21"
      },
      "source": [
        "print(train_img.shape)\r\n",
        "print(test_img.shape)"
      ],
      "execution_count": 13,
      "outputs": [
        {
          "output_type": "stream",
          "text": [
            "(60000, 28, 28)\n",
            "(10000, 28, 28)\n"
          ],
          "name": "stdout"
        }
      ]
    },
    {
      "cell_type": "code",
      "metadata": {
        "colab": {
          "base_uri": "https://localhost:8080/",
          "height": 282
        },
        "id": "6eaQVX-PVSWL",
        "outputId": "7b874b07-fd71-4d3f-8ba7-3073e6bff557"
      },
      "source": [
        "plt.imshow(test_img[0])"
      ],
      "execution_count": 14,
      "outputs": [
        {
          "output_type": "execute_result",
          "data": {
            "text/plain": [
              "<matplotlib.image.AxesImage at 0x7f5f29d1b490>"
            ]
          },
          "metadata": {
            "tags": []
          },
          "execution_count": 14
        },
        {
          "output_type": "display_data",
          "data": {
            "image/png": "[encoded data removed]",
            "text/plain": [
              "<Figure size 432x288 with 1 Axes>"
            ]
          },
          "metadata": {
            "tags": [],
            "needs_background": "light"
          }
        }
      ]
    },
    {
      "cell_type": "code",
      "metadata": {
        "id": "IRg9T4EHVVmS"
      },
      "source": [
        "train_img = train_img.reshape(60000, 28,28,1)\r\n",
        "test_img = test_img.reshape(10000,28,28,1)"
      ],
      "execution_count": 15,
      "outputs": []
    },
    {
      "cell_type": "code",
      "metadata": {
        "colab": {
          "base_uri": "https://localhost:8080/"
        },
        "id": "DPXjG2ORVZcd",
        "outputId": "305a96b0-130b-43cd-d1c5-7b792ad6d7a6"
      },
      "source": [
        "train_lab_one_hot = to_categorical(train_lab)\r\n",
        "test_lab_one_hot = to_categorical(test_lab)\r\n",
        "print(train_lab_one_hot[0])"
      ],
      "execution_count": 16,
      "outputs": [
        {
          "output_type": "stream",
          "text": [
            "[0. 0. 0. 0. 0. 1. 0. 0. 0. 0.]\n"
          ],
          "name": "stdout"
        }
      ]
    },
    {
      "cell_type": "code",
      "metadata": {
        "id": "2MYvW_-GWpni"
      },
      "source": [
        "#Building Model\r\n",
        "model=Sequential()\r\n",
        "model.add(Conv2D(64, kernel_size=3, activation='relu', input_shape=(28,28,1)))\r\n",
        "model.add(Conv2D(32, kernel_size=3, activation='relu'))\r\n",
        "model.add(Flatten())\r\n",
        "model.add(Dense(10, activation='softmax'))"
      ],
      "execution_count": 17,
      "outputs": []
    },
    {
      "cell_type": "code",
      "metadata": {
        "id": "hSp-pISAWsEu"
      },
      "source": [
        "#Compiling Model\r\n",
        "model.compile(optimizer='adam', loss='categorical_crossentropy', metrics=['accuracy'])"
      ],
      "execution_count": 18,
      "outputs": []
    },
    {
      "cell_type": "code",
      "metadata": {
        "colab": {
          "base_uri": "https://localhost:8080/"
        },
        "id": "O9U4NPPKWuA9",
        "outputId": "5cd4dd2f-2c67-420a-ace6-c561db7834e2"
      },
      "source": [
        "hist = model.fit(train_img, train_lab_one_hot,validation_data=(test_img, test_lab_one_hot),\r\n",
        "                 epochs=3)"
      ],
      "execution_count": 19,
      "outputs": [
        {
          "output_type": "stream",
          "text": [
            "Epoch 1/3\n",
            "1875/1875 [==============================] - 143s 76ms/step - loss: 0.6332 - accuracy: 0.9192 - val_loss: 0.0931 - val_accuracy: 0.9741\n",
            "Epoch 2/3\n",
            "1875/1875 [==============================] - 142s 76ms/step - loss: 0.0593 - accuracy: 0.9824 - val_loss: 0.0724 - val_accuracy: 0.9792\n",
            "Epoch 3/3\n",
            "1875/1875 [==============================] - 142s 76ms/step - loss: 0.0379 - accuracy: 0.9880 - val_loss: 0.0867 - val_accuracy: 0.9787\n"
          ],
          "name": "stdout"
        }
      ]
    },
    {
      "cell_type": "code",
      "metadata": {
        "colab": {
          "base_uri": "https://localhost:8080/",
          "height": 573
        },
        "id": "6XQktURVWwAO",
        "outputId": "7478f1ba-5206-4708-cb53-72f94051fcf7"
      },
      "source": [
        "# plot the loss\r\n",
        "plt.plot(hist.history['loss'], label='train loss')\r\n",
        "plt.plot(hist.history['val_loss'], label='val loss')\r\n",
        "plt.title('Model Loss')\r\n",
        "plt.xlabel('Epochs')\r\n",
        "plt.ylabel('Loss')\r\n",
        "plt.legend()\r\n",
        "plt.show()\r\n",
        "\r\n",
        "# plot the accuracy\r\n",
        "plt.plot(hist.history['accuracy'], label='train acc')\r\n",
        "plt.plot(hist.history['val_accuracy'], label='val acc')\r\n",
        "plt.title('Model Accuracy')\r\n",
        "plt.xlabel('Epoch')\r\n",
        "plt.ylabel('Accuracy')\r\n",
        "plt.legend()\r\n",
        "plt.show()"
      ],
      "execution_count": 20,
      "outputs": [
        {
          "output_type": "display_data",
          "data": {
            "image/png": "[encoded data removed]",
            "text/plain": [
              "<Figure size 432x288 with 1 Axes>"
            ]
          },
          "metadata": {
            "tags": [],
            "needs_background": "light"
          }
        },
        {
          "output_type": "display_data",
          "data": {
            "image/png": "[encoded data removed]",
            "text/plain": [
              "<Figure size 432x288 with 1 Axes>"
            ]
          },
          "metadata": {
            "tags": [],
            "needs_background": "light"
          }
        }
      ]
    },
    {
      "cell_type": "code",
      "metadata": {
        "colab": {
          "base_uri": "https://localhost:8080/"
        },
        "id": "3Z0v-0-gYcH6",
        "outputId": "74c79271-dc2e-48ba-ec93-48c692e9ebbe"
      },
      "source": [
        "print(model.evaluate(test_img, test_lab_one_hot))"
      ],
      "execution_count": 21,
      "outputs": [
        {
          "output_type": "stream",
          "text": [
            "313/313 [==============================] - 5s 14ms/step - loss: 0.0867 - accuracy: 0.9787\n",
            "[0.08671098202466965, 0.9786999821662903]\n"
          ],
          "name": "stdout"
        }
      ]
    },
    {
      "cell_type": "code",
      "metadata": {
        "colab": {
          "base_uri": "https://localhost:8080/"
        },
        "id": "L4Vjns_RYfYR",
        "outputId": "22410ae2-f9ec-484c-9700-e13cc4fbf6ae"
      },
      "source": [
        "pred = model.predict(test_img[:5])\r\n",
        "pred"
      ],
      "execution_count": 22,
      "outputs": [
        {
          "output_type": "execute_result",
          "data": {
            "text/plain": [
              "array([[1.5560236e-10, 6.8815926e-19, 2.1414495e-10, 2.4609426e-09,\n",
              "        1.3427891e-14, 5.5160194e-16, 1.4560443e-18, 1.0000000e+00,\n",
              "        1.3783844e-10, 4.9930633e-11],\n",
              "       [4.8452596e-11, 1.7395649e-06, 9.9915695e-01, 1.3364361e-11,\n",
              "        2.4179144e-12, 2.2928862e-14, 8.4126409e-04, 1.9197998e-16,\n",
              "        1.7954120e-09, 3.7528932e-18],\n",
              "       [1.0276010e-09, 9.9974853e-01, 6.6214773e-07, 1.5800697e-10,\n",
              "        2.4482780e-04, 5.3715791e-08, 4.1612921e-07, 1.3410634e-06,\n",
              "        4.3178197e-06, 1.1665696e-09],\n",
              "       [9.9999976e-01, 9.6617330e-15, 1.0245342e-08, 1.7004425e-13,\n",
              "        2.7595948e-10, 8.7237724e-11, 1.5803275e-07, 1.7194395e-10,\n",
              "        7.0241130e-10, 1.4336449e-07],\n",
              "       [1.7157085e-10, 1.4418004e-11, 2.2744710e-10, 5.6481233e-15,\n",
              "        1.0000000e+00, 2.6297405e-14, 9.2201463e-13, 1.1023715e-11,\n",
              "        1.0033766e-10, 8.3002327e-11]], dtype=float32)"
            ]
          },
          "metadata": {
            "tags": []
          },
          "execution_count": 22
        }
      ]
    },
    {
      "cell_type": "code",
      "metadata": {
        "colab": {
          "base_uri": "https://localhost:8080/"
        },
        "id": "AC40jHnEYjlH",
        "outputId": "a9e0031f-01a6-4548-82d8-cb7586f7abf3"
      },
      "source": [
        "p=np.argmax(pred, axis=1)\r\n",
        "print(p)\r\n",
        "print(test_lab[:5])"
      ],
      "execution_count": 23,
      "outputs": [
        {
          "output_type": "stream",
          "text": [
            "[7 2 1 0 4]\n",
            "[7 2 1 0 4]\n"
          ],
          "name": "stdout"
        }
      ]
    },
    {
      "cell_type": "code",
      "metadata": {
        "colab": {
          "base_uri": "https://localhost:8080/",
          "height": 1000
        },
        "id": "FMe6geW-YnbW",
        "outputId": "7fc14c78-0be3-40d3-fc53-50d8f4697a8a"
      },
      "source": [
        "#Visualizing prediction\r\n",
        "for i in range(5):\r\n",
        "  plt.imshow(test_img[i].reshape((28,28)), cmap='binary')\r\n",
        "  plt.title(\"Original: {}, Predicted: {}\".format(test_lab[i], p[i]))\r\n",
        "  plt.axis(\"Off\")\r\n",
        "  plt.figure()"
      ],
      "execution_count": 24,
      "outputs": [
        {
          "output_type": "display_data",
          "data": {
            "image/png": "[encoded data removed]",
            "text/plain": [
              "<Figure size 432x288 with 1 Axes>"
            ]
          },
          "metadata": {
            "tags": [],
            "needs_background": "light"
          }
        },
        {
          "output_type": "display_data",
          "data": {
            "image/png": "[encoded data removed]",
            "text/plain": [
              "<Figure size 432x288 with 1 Axes>"
            ]
          },
          "metadata": {
            "tags": [],
            "needs_background": "light"
          }
        },
        {
          "output_type": "display_data",
          "data": {
            "image/png": "[encoded data removed]",
            "text/plain": [
              "<Figure size 432x288 with 1 Axes>"
            ]
          },
          "metadata": {
            "tags": [],
            "needs_background": "light"
          }
        },
        {
          "output_type": "display_data",
          "data": {
            "image/png": "[encoded data removed]",
            "text/plain": [
              "<Figure size 432x288 with 1 Axes>"
            ]
          },
          "metadata": {
            "tags": [],
            "needs_background": "light"
          }
        },
        {
          "output_type": "display_data",
          "data": {
            "image/png": "[encoded data removed]",
            "text/plain": [
              "<Figure size 432x288 with 1 Axes>"
            ]
          },
          "metadata": {
            "tags": [],
            "needs_background": "light"
          }
        },
        {
          "output_type": "display_data",
          "data": {
            "text/plain": [
              "<Figure size 432x288 with 0 Axes>"
            ]
          },
          "metadata": {
            "tags": []
          }
        }
      ]
    },
    {
      "cell_type": "code",
      "metadata": {
        "id": "xDoCoReSYqtd"
      },
      "source": [
        ""
      ],
      "execution_count": null,
      "outputs": []
    }
  ]
}
