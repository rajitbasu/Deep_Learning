{
  "nbformat": 4,
  "nbformat_minor": 0,
  "metadata": {
    "colab": {
      "name": "DL_Assignment5_20MAI0019.ipynb",
      "provenance": [],
      "mount_file_id": "1uUniYQkHxLIDBbZ4-VvRdGh_RBQHUzcn",
      "authorship_tag": "ABX9TyNRW3yYp0fepKxP0853PHyI",
      "include_colab_link": true
    },
    "kernelspec": {
      "name": "python3",
      "display_name": "Python 3"
    },
    "language_info": {
      "name": "python"
    }
  },
  "cells": [
    {
      "cell_type": "markdown",
      "metadata": {
        "id": "view-in-github",
        "colab_type": "text"
      },
      "source": [
        "<a href=\"https://colab.research.google.com/github/rajitbasu/Deep_Learning/blob/main/DL_Assignment5_20MAI0019.ipynb\" target=\"_parent\"><img src=\"https://colab.research.google.com/assets/colab-badge.svg\" alt=\"Open In Colab\"/></a>"
      ]
    },
    {
      "cell_type": "code",
      "metadata": {
        "id": "vPTAVZqnEl7J"
      },
      "source": [
        "# RAJIT_BASU_20MAI0019\n",
        "# GitHub Link: "
      ],
      "execution_count": 1,
      "outputs": []
    },
    {
      "cell_type": "markdown",
      "metadata": {
        "id": "SgTzQuDiFatd"
      },
      "source": [
        "https://github.com/rajitbasu/Deep_Learning/blob/main/DL_Assignment5_20MAI0019.ipynb\n"
      ]
    },
    {
      "cell_type": "code",
      "metadata": {
        "id": "bTJaOpucFdAX"
      },
      "source": [
        "import pandas as pd\n",
        "import numpy as np\n",
        "import matplotlib.pyplot as plt\n",
        "\n",
        "from keras.layers import Dense,Dropout,SimpleRNN,LSTM\n",
        "from keras.models import Sequential\n",
        "\n",
        "from sklearn.preprocessing import MinMaxScaler\n",
        "from sklearn.model_selection import train_test_split\n",
        "from sklearn.metrics import r2_score"
      ],
      "execution_count": 2,
      "outputs": []
    },
    {
      "cell_type": "code",
      "metadata": {
        "id": "0JVAvusiFoDn"
      },
      "source": [
        " # loading data\n",
        "data = pd.read_csv(\"/content/drive/MyDrive/AABA_2006-01-01_to_2018-01-01.csv\")       "
      ],
      "execution_count": 3,
      "outputs": []
    },
    {
      "cell_type": "code",
      "metadata": {
        "colab": {
          "base_uri": "https://localhost:8080/",
          "height": 197
        },
        "id": "vVIRJXjGFvga",
        "outputId": "3b6cf5ab-0a50-498e-c449-68800a2b9fc7"
      },
      "source": [
        "data.head()"
      ],
      "execution_count": 4,
      "outputs": [
        {
          "output_type": "execute_result",
          "data": {
            "text/html": [
              "<div>\n",
              "<style scoped>\n",
              "    .dataframe tbody tr th:only-of-type {\n",
              "        vertical-align: middle;\n",
              "    }\n",
              "\n",
              "    .dataframe tbody tr th {\n",
              "        vertical-align: top;\n",
              "    }\n",
              "\n",
              "    .dataframe thead th {\n",
              "        text-align: right;\n",
              "    }\n",
              "</style>\n",
              "<table border=\"1\" class=\"dataframe\">\n",
              "  <thead>\n",
              "    <tr style=\"text-align: right;\">\n",
              "      <th></th>\n",
              "      <th>Date</th>\n",
              "      <th>Open</th>\n",
              "      <th>High</th>\n",
              "      <th>Low</th>\n",
              "      <th>Close</th>\n",
              "      <th>Volume</th>\n",
              "      <th>Name</th>\n",
              "    </tr>\n",
              "  </thead>\n",
              "  <tbody>\n",
              "    <tr>\n",
              "      <th>0</th>\n",
              "      <td>2006-01-03</td>\n",
              "      <td>39.69</td>\n",
              "      <td>41.22</td>\n",
              "      <td>38.79</td>\n",
              "      <td>40.91</td>\n",
              "      <td>24232729</td>\n",
              "      <td>AABA</td>\n",
              "    </tr>\n",
              "    <tr>\n",
              "      <th>1</th>\n",
              "      <td>2006-01-04</td>\n",
              "      <td>41.22</td>\n",
              "      <td>41.90</td>\n",
              "      <td>40.77</td>\n",
              "      <td>40.97</td>\n",
              "      <td>20553479</td>\n",
              "      <td>AABA</td>\n",
              "    </tr>\n",
              "    <tr>\n",
              "      <th>2</th>\n",
              "      <td>2006-01-05</td>\n",
              "      <td>40.93</td>\n",
              "      <td>41.73</td>\n",
              "      <td>40.85</td>\n",
              "      <td>41.53</td>\n",
              "      <td>12829610</td>\n",
              "      <td>AABA</td>\n",
              "    </tr>\n",
              "    <tr>\n",
              "      <th>3</th>\n",
              "      <td>2006-01-06</td>\n",
              "      <td>42.88</td>\n",
              "      <td>43.57</td>\n",
              "      <td>42.80</td>\n",
              "      <td>43.21</td>\n",
              "      <td>29422828</td>\n",
              "      <td>AABA</td>\n",
              "    </tr>\n",
              "    <tr>\n",
              "      <th>4</th>\n",
              "      <td>2006-01-09</td>\n",
              "      <td>43.10</td>\n",
              "      <td>43.66</td>\n",
              "      <td>42.82</td>\n",
              "      <td>43.42</td>\n",
              "      <td>16268338</td>\n",
              "      <td>AABA</td>\n",
              "    </tr>\n",
              "  </tbody>\n",
              "</table>\n",
              "</div>"
            ],
            "text/plain": [
              "         Date   Open   High    Low  Close    Volume  Name\n",
              "0  2006-01-03  39.69  41.22  38.79  40.91  24232729  AABA\n",
              "1  2006-01-04  41.22  41.90  40.77  40.97  20553479  AABA\n",
              "2  2006-01-05  40.93  41.73  40.85  41.53  12829610  AABA\n",
              "3  2006-01-06  42.88  43.57  42.80  43.21  29422828  AABA\n",
              "4  2006-01-09  43.10  43.66  42.82  43.42  16268338  AABA"
            ]
          },
          "metadata": {
            "tags": []
          },
          "execution_count": 4
        }
      ]
    },
    {
      "cell_type": "code",
      "metadata": {
        "colab": {
          "base_uri": "https://localhost:8080/"
        },
        "id": "j7XQzNmbFxav",
        "outputId": "ff75717e-e420-47ef-9ee6-a24a762ea4b2"
      },
      "source": [
        "data.info()"
      ],
      "execution_count": 5,
      "outputs": [
        {
          "output_type": "stream",
          "text": [
            "<class 'pandas.core.frame.DataFrame'>\n",
            "RangeIndex: 3019 entries, 0 to 3018\n",
            "Data columns (total 7 columns):\n",
            " #   Column  Non-Null Count  Dtype  \n",
            "---  ------  --------------  -----  \n",
            " 0   Date    3019 non-null   object \n",
            " 1   Open    3019 non-null   float64\n",
            " 2   High    3019 non-null   float64\n",
            " 3   Low     3019 non-null   float64\n",
            " 4   Close   3019 non-null   float64\n",
            " 5   Volume  3019 non-null   int64  \n",
            " 6   Name    3019 non-null   object \n",
            "dtypes: float64(4), int64(1), object(2)\n",
            "memory usage: 165.2+ KB\n"
          ],
          "name": "stdout"
        }
      ]
    },
    {
      "cell_type": "code",
      "metadata": {
        "id": "vOqXqlVbF0vC"
      },
      "source": [
        "Low_data = data.iloc[:,3:4].values"
      ],
      "execution_count": 6,
      "outputs": []
    },
    {
      "cell_type": "code",
      "metadata": {
        "colab": {
          "base_uri": "https://localhost:8080/"
        },
        "id": "4DZot1f3F-WK",
        "outputId": "aefdb33b-27a0-4b48-a468-572ceebda815"
      },
      "source": [
        "Low_data"
      ],
      "execution_count": 7,
      "outputs": [
        {
          "output_type": "execute_result",
          "data": {
            "text/plain": [
              "array([[38.79],\n",
              "       [40.77],\n",
              "       [40.85],\n",
              "       ...,\n",
              "       [69.69],\n",
              "       [69.51],\n",
              "       [69.43]])"
            ]
          },
          "metadata": {
            "tags": []
          },
          "execution_count": 7
        }
      ]
    },
    {
      "cell_type": "code",
      "metadata": {
        "colab": {
          "base_uri": "https://localhost:8080/",
          "height": 627
        },
        "id": "-Ia27u_nGAYQ",
        "outputId": "07778a7e-7336-44e7-c516-16f156b10dcd"
      },
      "source": [
        "# Visualizing the data\n",
        "plt.figure(figsize=(14,10))                 \n",
        "plt.plot(Low_data,c=\"red\")\n",
        "plt.title(\"Microsoft Stock Prices\",fontsize=16)\n",
        "plt.xlabel(\"Days\",fontsize=16)\n",
        "plt.ylabel(\"Scaled Price\",fontsize=16)\n",
        "plt.grid()\n",
        "plt.show()"
      ],
      "execution_count": 8,
      "outputs": [
        {
          "output_type": "display_data",
          "data": {
            "image/png": "[encoded data removed]",
            "text/plain": [
              "<Figure size 1008x720 with 1 Axes>"
            ]
          },
          "metadata": {
            "tags": [],
            "needs_background": "light"
          }
        }
      ]
    },
    {
      "cell_type": "code",
      "metadata": {
        "id": "nEOhwK0KGMgx"
      },
      "source": [
        "# Scaling the data between 1 and 0\n",
        "scaler = MinMaxScaler(feature_range=(0,1))"
      ],
      "execution_count": 9,
      "outputs": []
    },
    {
      "cell_type": "code",
      "metadata": {
        "id": "AANhiNHqGVgl"
      },
      "source": [
        "Low_scaled = scaler.fit_transform(Low_data)"
      ],
      "execution_count": 10,
      "outputs": []
    },
    {
      "cell_type": "code",
      "metadata": {
        "id": "7h7ZSE_0GXZx"
      },
      "source": [
        "step_size = 21                      \n",
        "\n",
        "train_x = []\n",
        "train_y = []"
      ],
      "execution_count": 11,
      "outputs": []
    },
    {
      "cell_type": "code",
      "metadata": {
        "id": "OOJggM-bGdm8"
      },
      "source": [
        "for i in range(step_size,3019):               \n",
        "    train_x.append(Low_scaled[i-step_size:i,0])\n",
        "    train_y.append(Low_scaled[i,0])"
      ],
      "execution_count": 12,
      "outputs": []
    },
    {
      "cell_type": "code",
      "metadata": {
        "id": "nJURcsDhGu14"
      },
      "source": [
        "train_x = np.array(train_x)                   \n",
        "train_y = np.array(train_y)"
      ],
      "execution_count": 13,
      "outputs": []
    },
    {
      "cell_type": "code",
      "metadata": {
        "colab": {
          "base_uri": "https://localhost:8080/"
        },
        "id": "uQ8SUXBcG1YN",
        "outputId": "f5f7efbb-fb91-4562-c3c9-e203f4cbb2b8"
      },
      "source": [
        "print(train_x.shape)"
      ],
      "execution_count": 14,
      "outputs": [
        {
          "output_type": "stream",
          "text": [
            "(2998, 21)\n"
          ],
          "name": "stdout"
        }
      ]
    },
    {
      "cell_type": "code",
      "metadata": {
        "id": "a3QxxxGIG3GM"
      },
      "source": [
        "# last 419 days are going to be used in test\n",
        "# first 2500 days are going to be used in training\n",
        "test_x = train_x[2500:]             \n",
        "train_x = train_x[:2500]           \n",
        "test_y = train_y[2500:]  \n",
        "train_y = train_y[:2500]"
      ],
      "execution_count": 15,
      "outputs": []
    },
    {
      "cell_type": "code",
      "metadata": {
        "id": "9Rfm72ibG__L"
      },
      "source": [
        "train_x = np.reshape(train_x, (2500, step_size, 1))           \n",
        "test_x = np.reshape(test_x, (498, step_size, 1))"
      ],
      "execution_count": 16,
      "outputs": []
    },
    {
      "cell_type": "code",
      "metadata": {
        "colab": {
          "base_uri": "https://localhost:8080/"
        },
        "id": "ZtTRsxJwHEFQ",
        "outputId": "cc5e71b7-d209-48de-f8c6-8d3516b58eae"
      },
      "source": [
        "print(train_x.shape)\n",
        "print(test_x.shape)  "
      ],
      "execution_count": 17,
      "outputs": [
        {
          "output_type": "stream",
          "text": [
            "(2500, 21, 1)\n",
            "(498, 21, 1)\n"
          ],
          "name": "stdout"
        }
      ]
    },
    {
      "cell_type": "markdown",
      "metadata": {
        "id": "jNnQ91jYHII2"
      },
      "source": [
        "### **RNN MODEL**"
      ]
    },
    {
      "cell_type": "code",
      "metadata": {
        "id": "LBKPlC-LHR4d"
      },
      "source": [
        "rnn_model = Sequential()\n",
        "rnn_model.add(SimpleRNN(40,activation=\"tanh\",return_sequences=True, input_shape=(train_x.shape[1],1)))\n",
        "rnn_model.add(Dropout(0.15))\n",
        "\n",
        "rnn_model.add(SimpleRNN(40,activation=\"tanh\",return_sequences=True))\n",
        "rnn_model.add(Dropout(0.15))\n",
        "\n",
        "rnn_model.add(SimpleRNN(40,activation=\"tanh\",return_sequences=False))\n",
        "rnn_model.add(Dropout(0.15))\n",
        "\n",
        "rnn_model.add(Dense(1))"
      ],
      "execution_count": 18,
      "outputs": []
    },
    {
      "cell_type": "code",
      "metadata": {
        "colab": {
          "base_uri": "https://localhost:8080/"
        },
        "id": "BsY8ddlcHcYW",
        "outputId": "6e0d766e-6ec3-417d-b5bd-4c0a9fe76982"
      },
      "source": [
        "rnn_model.summary()"
      ],
      "execution_count": 19,
      "outputs": [
        {
          "output_type": "stream",
          "text": [
            "Model: \"sequential\"\n",
            "_________________________________________________________________\n",
            "Layer (type)                 Output Shape              Param #   \n",
            "=================================================================\n",
            "simple_rnn (SimpleRNN)       (None, 21, 40)            1680      \n",
            "_________________________________________________________________\n",
            "dropout (Dropout)            (None, 21, 40)            0         \n",
            "_________________________________________________________________\n",
            "simple_rnn_1 (SimpleRNN)     (None, 21, 40)            3240      \n",
            "_________________________________________________________________\n",
            "dropout_1 (Dropout)          (None, 21, 40)            0         \n",
            "_________________________________________________________________\n",
            "simple_rnn_2 (SimpleRNN)     (None, 40)                3240      \n",
            "_________________________________________________________________\n",
            "dropout_2 (Dropout)          (None, 40)                0         \n",
            "_________________________________________________________________\n",
            "dense (Dense)                (None, 1)                 41        \n",
            "=================================================================\n",
            "Total params: 8,201\n",
            "Trainable params: 8,201\n",
            "Non-trainable params: 0\n",
            "_________________________________________________________________\n"
          ],
          "name": "stdout"
        }
      ]
    },
    {
      "cell_type": "code",
      "metadata": {
        "id": "_HObhzXoHh9A"
      },
      "source": [
        "rnn_model.compile(optimizer=\"adam\",loss=\"MSE\")"
      ],
      "execution_count": 20,
      "outputs": []
    },
    {
      "cell_type": "code",
      "metadata": {
        "colab": {
          "base_uri": "https://localhost:8080/"
        },
        "id": "QBpkVAeNHmUF",
        "outputId": "037bea66-65cd-4925-88ba-ed3bca769fb8"
      },
      "source": [
        "rnn_model.fit(train_x,train_y,epochs=10,batch_size=25)\n"
      ],
      "execution_count": 21,
      "outputs": [
        {
          "output_type": "stream",
          "text": [
            "Epoch 1/10\n",
            "100/100 [==============================] - 7s 33ms/step - loss: 0.1221\n",
            "Epoch 2/10\n",
            "100/100 [==============================] - 3s 32ms/step - loss: 0.0189\n",
            "Epoch 3/10\n",
            "100/100 [==============================] - 3s 32ms/step - loss: 0.0105\n",
            "Epoch 4/10\n",
            "100/100 [==============================] - 3s 33ms/step - loss: 0.0075\n",
            "Epoch 5/10\n",
            "100/100 [==============================] - 3s 32ms/step - loss: 0.0054\n",
            "Epoch 6/10\n",
            "100/100 [==============================] - 3s 32ms/step - loss: 0.0038\n",
            "Epoch 7/10\n",
            "100/100 [==============================] - 3s 32ms/step - loss: 0.0030\n",
            "Epoch 8/10\n",
            "100/100 [==============================] - 3s 33ms/step - loss: 0.0029\n",
            "Epoch 9/10\n",
            "100/100 [==============================] - 3s 33ms/step - loss: 0.0023\n",
            "Epoch 10/10\n",
            "100/100 [==============================] - 3s 33ms/step - loss: 0.0024\n"
          ],
          "name": "stdout"
        },
        {
          "output_type": "execute_result",
          "data": {
            "text/plain": [
              "<tensorflow.python.keras.callbacks.History at 0x7f5cc0567150>"
            ]
          },
          "metadata": {
            "tags": []
          },
          "execution_count": 21
        }
      ]
    },
    {
      "cell_type": "code",
      "metadata": {
        "id": "_tF1RA3JHp3t"
      },
      "source": [
        "rnn_predictions = rnn_model.predict(test_x)\n",
        "\n",
        "rnn_score = r2_score(test_y,rnn_predictions)"
      ],
      "execution_count": 22,
      "outputs": []
    },
    {
      "cell_type": "markdown",
      "metadata": {
        "id": "Zl8KxxlQH1yO"
      },
      "source": [
        "## **LSTM**"
      ]
    },
    {
      "cell_type": "code",
      "metadata": {
        "colab": {
          "base_uri": "https://localhost:8080/"
        },
        "id": "sLWXr-DUH_sK",
        "outputId": "9ba1cb24-5bb8-4008-af87-6587e489aa31"
      },
      "source": [
        "lstm_model = Sequential()\n",
        "lstm_model.add(LSTM(40,activation=\"tanh\",return_sequences=True, input_shape=(train_x.shape[1],1)))\n",
        "lstm_model.add(Dropout(0.15))\n",
        "\n",
        "lstm_model.add(LSTM(40,activation=\"tanh\",return_sequences=True))\n",
        "lstm_model.add(Dropout(0.15))\n",
        "\n",
        "lstm_model.add(LSTM(40,activation=\"tanh\",return_sequences=False))\n",
        "lstm_model.add(Dropout(0.15))\n",
        "\n",
        "lstm_model.add(Dense(1))\n",
        "\n",
        "lstm_model.summary()"
      ],
      "execution_count": 23,
      "outputs": [
        {
          "output_type": "stream",
          "text": [
            "Model: \"sequential_1\"\n",
            "_________________________________________________________________\n",
            "Layer (type)                 Output Shape              Param #   \n",
            "=================================================================\n",
            "lstm (LSTM)                  (None, 21, 40)            6720      \n",
            "_________________________________________________________________\n",
            "dropout_3 (Dropout)          (None, 21, 40)            0         \n",
            "_________________________________________________________________\n",
            "lstm_1 (LSTM)                (None, 21, 40)            12960     \n",
            "_________________________________________________________________\n",
            "dropout_4 (Dropout)          (None, 21, 40)            0         \n",
            "_________________________________________________________________\n",
            "lstm_2 (LSTM)                (None, 40)                12960     \n",
            "_________________________________________________________________\n",
            "dropout_5 (Dropout)          (None, 40)                0         \n",
            "_________________________________________________________________\n",
            "dense_1 (Dense)              (None, 1)                 41        \n",
            "=================================================================\n",
            "Total params: 32,681\n",
            "Trainable params: 32,681\n",
            "Non-trainable params: 0\n",
            "_________________________________________________________________\n"
          ],
          "name": "stdout"
        }
      ]
    },
    {
      "cell_type": "code",
      "metadata": {
        "id": "hSCY-X_zIM9T"
      },
      "source": [
        "lstm_model.compile(optimizer=\"adam\",loss=\"MSE\")"
      ],
      "execution_count": 24,
      "outputs": []
    },
    {
      "cell_type": "code",
      "metadata": {
        "colab": {
          "base_uri": "https://localhost:8080/"
        },
        "id": "4YoWb1FiIPlq",
        "outputId": "16113d61-d6d5-4695-950d-843d9c05f810"
      },
      "source": [
        "lstm_model.fit(train_x,train_y,epochs=10,batch_size=25)"
      ],
      "execution_count": 25,
      "outputs": [
        {
          "output_type": "stream",
          "text": [
            "Epoch 1/10\n",
            "100/100 [==============================] - 32s 19ms/step - loss: 0.0125\n",
            "Epoch 2/10\n",
            "100/100 [==============================] - 2s 19ms/step - loss: 0.0014\n",
            "Epoch 3/10\n",
            "100/100 [==============================] - 2s 19ms/step - loss: 0.0012\n",
            "Epoch 4/10\n",
            "100/100 [==============================] - 2s 19ms/step - loss: 0.0012\n",
            "Epoch 5/10\n",
            "100/100 [==============================] - 2s 19ms/step - loss: 0.0013\n",
            "Epoch 6/10\n",
            "100/100 [==============================] - 2s 19ms/step - loss: 0.0010\n",
            "Epoch 7/10\n",
            "100/100 [==============================] - 2s 19ms/step - loss: 0.0010\n",
            "Epoch 8/10\n",
            "100/100 [==============================] - 2s 19ms/step - loss: 8.6430e-04\n",
            "Epoch 9/10\n",
            "100/100 [==============================] - 2s 19ms/step - loss: 8.1349e-04\n",
            "Epoch 10/10\n",
            "100/100 [==============================] - 2s 19ms/step - loss: 8.1547e-04\n"
          ],
          "name": "stdout"
        },
        {
          "output_type": "execute_result",
          "data": {
            "text/plain": [
              "<tensorflow.python.keras.callbacks.History at 0x7f5c83f6de50>"
            ]
          },
          "metadata": {
            "tags": []
          },
          "execution_count": 25
        }
      ]
    },
    {
      "cell_type": "code",
      "metadata": {
        "id": "3u12MhRwIR2c"
      },
      "source": [
        "lstm_predictions = lstm_model.predict(test_x)\n",
        "\n",
        "lstm_score = r2_score(test_y,lstm_predictions)"
      ],
      "execution_count": 26,
      "outputs": []
    },
    {
      "cell_type": "code",
      "metadata": {
        "colab": {
          "base_uri": "https://localhost:8080/"
        },
        "id": "w-EySRe4I-yt",
        "outputId": "963ee8e3-729a-4de7-e398-cb1f0f1dee7c"
      },
      "source": [
        "print(\"R^2 Score of RNN\",rnn_score)\n",
        "print(\"R^2 Score of LSTM\",lstm_score)"
      ],
      "execution_count": 27,
      "outputs": [
        {
          "output_type": "stream",
          "text": [
            "R^2 Score of RNN 0.9299103779259027\n",
            "R^2 Score of LSTM 0.9752245519463908\n"
          ],
          "name": "stdout"
        }
      ]
    },
    {
      "cell_type": "code",
      "metadata": {
        "id": "3pY6aX04JB9D"
      },
      "source": [
        "lstm_predictions = scaler.inverse_transform(lstm_predictions)\n",
        "rnn_predictions = scaler.inverse_transform(rnn_predictions)\n",
        "test_y = scaler.inverse_transform(test_y.reshape(-1,1))"
      ],
      "execution_count": 28,
      "outputs": []
    },
    {
      "cell_type": "code",
      "metadata": {
        "colab": {
          "base_uri": "https://localhost:8080/",
          "height": 721
        },
        "id": "zLkatoLIJLnv",
        "outputId": "a2bf8f47-3999-45f1-9854-93b984de7853"
      },
      "source": [
        "plt.figure(figsize=(16,12))\n",
        "\n",
        "plt.plot(test_y, c=\"blue\",linewidth=2, label=\"original\")\n",
        "plt.plot(lstm_predictions, c=\"green\",linewidth=2, label=\"LSTM\")\n",
        "plt.plot(rnn_predictions, c=\"red\",linewidth=2, label=\"RNN\")\n",
        "plt.legend()\n",
        "plt.title(\"COMPARISONS\",fontsize=20)\n",
        "plt.grid()\n",
        "plt.show()"
      ],
      "execution_count": 29,
      "outputs": [
        {
          "output_type": "display_data",
          "data": {
            "image/png": "[encoded data removed]",
            "text/plain": [
              "<Figure size 1152x864 with 1 Axes>"
            ]
          },
          "metadata": {
            "tags": [],
            "needs_background": "light"
          }
        }
      ]
    },
    {
      "cell_type": "code",
      "metadata": {
        "id": "eSJacMp6TTeY"
      },
      "source": [
        ""
      ],
      "execution_count": null,
      "outputs": []
    }
  ]
}